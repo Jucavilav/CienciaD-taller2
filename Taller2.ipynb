{
  "nbformat": 4,
  "nbformat_minor": 0,
  "metadata": {
    "colab": {
      "provenance": [],
      "toc_visible": true,
      "authorship_tag": "ABX9TyMaNZ5BKsffxVWfG+4W6mNL",
      "include_colab_link": true
    },
    "kernelspec": {
      "name": "python3",
      "display_name": "Python 3"
    },
    "language_info": {
      "name": "python"
    }
  },
  "cells": [
    {
      "cell_type": "markdown",
      "metadata": {
        "id": "view-in-github",
        "colab_type": "text"
      },
      "source": [
        "<a href=\"https://colab.research.google.com/github/Jucavilav/CienciaD-taller2/blob/main/Taller2.ipynb\" target=\"_parent\"><img src=\"https://colab.research.google.com/assets/colab-badge.svg\" alt=\"Open In Colab\"/></a>"
      ]
    },
    {
      "cell_type": "code",
      "source": [
        "!pip install pylev"
      ],
      "metadata": {
        "id": "Mm_BNiK8Tqmi"
      },
      "execution_count": null,
      "outputs": []
    },
    {
      "cell_type": "code",
      "source": [
        "import re\n",
        "from random import randint\n",
        "from datetime import datetime\n",
        "from difflib import SequenceMatcher\n",
        "import numpy as np\n",
        "import pandas as pd\n",
        "import pylev"
      ],
      "metadata": {
        "id": "dCt-8-kpTv9s"
      },
      "execution_count": 2,
      "outputs": []
    },
    {
      "cell_type": "code",
      "source": [
        "pd.set_option(\"display.max_columns\", None)"
      ],
      "metadata": {
        "id": "u_MJMpXtUD61"
      },
      "execution_count": 5,
      "outputs": []
    },
    {
      "cell_type": "code",
      "execution_count": 7,
      "metadata": {
        "id": "1Gwt3YTnNJz3"
      },
      "outputs": [],
      "source": [
        "pip_df = pd.read_csv(\"https://raw.githubusercontent.com/Jucavilav/CienciaD-taller2/main/datos/gapminder_final.csv\")"
      ]
    },
    {
      "cell_type": "code",
      "source": [
        "pip_df.shape"
      ],
      "metadata": {
        "colab": {
          "base_uri": "https://localhost:8080/"
        },
        "id": "aFFHq9JzT9lV",
        "outputId": "f8a7d2ba-692d-49f4-a0ad-c703b8c330eb"
      },
      "execution_count": 8,
      "outputs": [
        {
          "output_type": "execute_result",
          "data": {
            "text/plain": [
              "(178, 16)"
            ]
          },
          "metadata": {},
          "execution_count": 8
        }
      ]
    },
    {
      "cell_type": "code",
      "source": [
        "pip_df.dtypes"
      ],
      "metadata": {
        "colab": {
          "base_uri": "https://localhost:8080/"
        },
        "id": "FP_z_vvaUO2W",
        "outputId": "0f926298-7d4c-4cb9-e4f7-902fffbb1481"
      },
      "execution_count": 9,
      "outputs": [
        {
          "output_type": "execute_result",
          "data": {
            "text/plain": [
              "country                  object\n",
              "incomeperperson         float64\n",
              "alcconsumption          float64\n",
              "armedforcesrate         float64\n",
              "breastcancerper100th    float64\n",
              "co2emissions            float64\n",
              "femaleemployrate        float64\n",
              "hivrate                 float64\n",
              "internetuserate         float64\n",
              "lifeexpectancy          float64\n",
              "oilperperson            float64\n",
              "polityscore             float64\n",
              "relectricperperson      float64\n",
              "suicideper100th         float64\n",
              "employrate              float64\n",
              "urbanrate               float64\n",
              "dtype: object"
            ]
          },
          "metadata": {},
          "execution_count": 9
        }
      ]
    },
    {
      "cell_type": "code",
      "source": [],
      "metadata": {
        "id": "Gy0Y-HKuUSUk"
      },
      "execution_count": null,
      "outputs": []
    }
  ]
}